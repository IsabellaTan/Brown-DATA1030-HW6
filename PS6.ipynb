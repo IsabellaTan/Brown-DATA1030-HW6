{
 "cells": [
  {
   "cell_type": "markdown",
   "id": "891ee364",
   "metadata": {},
   "source": [
    "## Problem set 6\n",
    "\n",
    "## Name: [TODO]\n",
    "\n",
    "## Link to your PS6 github repo: [TODO]\n",
    "\n",
    "### Problem 0 \n",
    "\n",
    "-2 points for every missing green OK sign. \n",
    "\n",
    "Make sure you are in the DATA1030 environment."
   ]
  },
  {
   "cell_type": "code",
   "execution_count": null,
   "id": "cbf77c7a",
   "metadata": {},
   "outputs": [],
   "source": [
    "from __future__ import print_function\n",
    "from packaging.version import parse as Version\n",
    "from platform import python_version\n",
    "\n",
    "OK = '\\x1b[42m[ OK ]\\x1b[0m'\n",
    "FAIL = \"\\x1b[41m[FAIL]\\x1b[0m\"\n",
    "\n",
    "try:\n",
    "    import importlib\n",
    "except ImportError:\n",
    "    print(FAIL, \"Python version 3.12.10 is required,\"\n",
    "                \" but %s is installed.\" % sys.version)\n",
    "\n",
    "def import_version(pkg, min_ver, fail_msg=\"\"):\n",
    "    mod = None\n",
    "    try:\n",
    "        mod = importlib.import_module(pkg)\n",
    "        if pkg in {'PIL'}:\n",
    "            ver = mod.VERSION\n",
    "        else:\n",
    "            ver = mod.__version__\n",
    "        if Version(ver) == Version(min_ver):\n",
    "            print(OK, \"%s version %s is installed.\"\n",
    "                  % (lib, min_ver))\n",
    "        else:\n",
    "            print(FAIL, \"%s version %s is required, but %s installed.\"\n",
    "                  % (lib, min_ver, ver))    \n",
    "    except ImportError:\n",
    "        print(FAIL, '%s not installed. %s' % (pkg, fail_msg))\n",
    "    return mod\n",
    "\n",
    "\n",
    "# first check the python version\n",
    "pyversion = Version(python_version())\n",
    "\n",
    "if pyversion >= Version(\"3.12.10\"):\n",
    "    print(OK, \"Python version is %s\" % pyversion)\n",
    "elif pyversion < Version(\"3.12.10\"):\n",
    "    print(FAIL, \"Python version 3.12.10 is required,\"\n",
    "                \" but %s is installed.\" % pyversion)\n",
    "else:\n",
    "    print(FAIL, \"Unknown Python version: %s\" % pyversion)\n",
    "\n",
    "    \n",
    "print()\n",
    "requirements = {'numpy': \"2.2.5\", 'matplotlib': \"3.10.1\",'sklearn': \"1.6.1\", \n",
    "                'pandas': \"2.2.3\",'xgboost': \"3.0.0\", 'shap': \"0.47.2\", \n",
    "                'polars': \"1.27.1\", 'seaborn': \"0.13.2\"}\n",
    "\n",
    "# now the dependencies\n",
    "for lib, required_version in list(requirements.items()):\n",
    "    import_version(lib, required_version)"
   ]
  },
  {
   "cell_type": "markdown",
   "id": "1570da73-48b5-4cf5-9265-36619f375075",
   "metadata": {},
   "source": [
    "## Problem 1 (5 points)\n",
    "\n",
    "Write a function called `linear_ML_pipeline` which takes training, validation, test sets, and a boolean variable called `is_classif` as input. The variable `is_classif` is `True` if the target variable is categorial (classification problem), and `False` if the target variable is continuous (regression problem). The function also takes the following lists as inputs:\n",
    "- continuous_ftrs: the column names of continuous features\n",
    "- ordinal_ftrs: the column names of ordinal features\n",
    "- ordinal_cats: the ordered list of categories for each ordinal feature\n",
    "- categorical_ftrs: the column names of categorical features\n",
    "\n",
    "Within the function, perform the following steps:\n",
    "- write the docstring\n",
    "- test the inputs! write at least 10 tests. make sure that among other things, all features are accounted for in the lists.\n",
    "- preprocess the sets using sklearn and make sure to fit_transform the training set, and transform the validation and test sets\n",
    "- fit a logistic regression model if `is_classif` is `True`, a linear regression model otherwise\n",
    "- use the elastic net regularization and tune both hyperparameters (alpha or C and l1_ratio)\n",
    "- perform CV and select the hyperparameter combo which optimizes the validation score\n",
    "- calculate the test score\n",
    "- your function should return the best model, its hyperparameters, and the test score\n",
    "\n",
    "You will use this function to solve problems 2 and 3. Data splitting will be performed before the function is called."
   ]
  },
  {
   "cell_type": "code",
   "execution_count": null,
   "id": "b4436f7c-0221-4456-81bb-2a2b5f47de3f",
   "metadata": {},
   "outputs": [],
   "source": [
    "# add your code here\n",
    "\n",
    "\n"
   ]
  },
  {
   "cell_type": "markdown",
   "id": "706733a7-d4ca-43bb-9dd0-d48bf78debfc",
   "metadata": {},
   "source": [
    "## Problem 2: time series forecasting with VAR\n",
    "\n",
    "You will practice multivariate time series forcasting using VAR - vector autoregression.\n",
    "\n",
    "The `stocks_prices.csv` is in the data folder. It contains the stock prices of amazon (AMZN), microsoft (MSFT), and apple (AAPL). Here is a description of each column in the dataset:\n",
    "- price ticker date: the date when the stock price was recorded - note that weekends and holidays are absent\n",
    "- Close AAPL: apple stock price at closing time in USD (i.e., at the end of the trading day)\n",
    "- Close AMZN: amazon stock price at closing time in USD (i.e., at the end of the trading day)\n",
    "- Close MSFT: microsoft stock price at closing time in USD (i.e., at the end of the trading day)\n",
    "- High AAPL: highest apple stock price during the trading day in USD\n",
    "- High AMZN: highest amazon stock price during the trading day in USD\n",
    "- High MSFT: highest microsoft stock price during the trading day in USD\n",
    "- Low AAPL: lowest apple stock price during the trading day in USD\n",
    "- Low AMZN: lowest amazon stock price during the trading day in USD\n",
    "- Low MSFT: lowest microsoft stock price during the trading day in USD\n",
    "- Open AAPL: apple stock price at opening time in USD (i.e., at the beginning of the trading day)\n",
    "- Open AMZN: amazon stock price at opening time in USD (i.e., at the beginning of the trading day)\n",
    "- Open MSFT: microsoft stock price opening time in USD (i.e., at the beginning of the trading day)\n",
    "- Volume AAPL: total traded volume (buys and sells) of apple on the trading day in USD\n",
    "- Volume AMZN: total traded volume (buys and sells) of amazon on the trading day in USD\n",
    "- Volume MSFT: total traded volume (buys and sells) of microsoft on the trading day in USD\n",
    "\n",
    "The goal of problem 2 is to predict the opening price of apple stocks one day ahead based on the time series observations."
   ]
  },
  {
   "cell_type": "markdown",
   "id": "00182271-de3b-4ed6-8e66-df74c4500aae",
   "metadata": {},
   "source": [
    "### Problem 2a - feature matrix (15 points)\n",
    "Perform the steps outlined in the cell below."
   ]
  },
  {
   "cell_type": "code",
   "execution_count": null,
   "id": "49769466-6ab3-4c6b-a8e1-58e5dc9bd17e",
   "metadata": {},
   "outputs": [],
   "source": [
    "# add your code here\n",
    "# import packages\n",
    "\n",
    "\n",
    "# read in the dataset and print the header\n",
    "\n",
    "\n",
    "# write a function which takes the following input:\n",
    "# - the dataframe, \n",
    "# - the name of the target column, \n",
    "# - a variable `p` which describes how many autoregresive past features we use (p in AR(p) of the lecture notes)\n",
    "# the function should return a feature matrix X and target variable y after VAR is applied to the multivariate time series data\n",
    "# make sure that the points are ordered with respect to time such that \n",
    "# the oldest observations are at the top and the most recent observation are at the bottom of the dataframe.\n",
    "\n",
    "\n",
    "\n",
    "\n"
   ]
  },
  {
   "cell_type": "markdown",
   "id": "90b38e13-f080-4d49-a1d8-22d9efb7efe6",
   "metadata": {},
   "source": [
    "### Problem 2b - splitting (10 points)\n",
    "We will split the dataset in a couple of different ways to study information leakage. Perform the steps outlined in the cell below."
   ]
  },
  {
   "cell_type": "code",
   "execution_count": null,
   "id": "19d49515-ebb5-47dd-bb27-2019e766b77b",
   "metadata": {},
   "outputs": [],
   "source": [
    "# add your code here\n",
    "\n",
    "# split 1: create shuffled train/validation/test sets (60/20/20 ratio) and run `linear_ML_pipeline` on it. \n",
    "# print out the best hyperparameter values, and the test score\n",
    "# repeat this process with 5 random states\n",
    "# print out the best hyperparameter values, and the test score\n",
    "# print out the mean and stdev of the 5 test scores.\n",
    "\n",
    "\n",
    "# split 2: place 20% of the most recent observations in the test set, \n",
    "# then apply sklearn's TimeSeriesSplit on the rest of the data with n_splits = 5\n",
    "# run `linear_ML_pipeline` on each split.\n",
    "# print out the best hyperparameter values, and the test score\n",
    "# print out the mean and stdev of the 5 test scores.\n",
    "\n",
    "\n",
    "\n"
   ]
  },
  {
   "cell_type": "markdown",
   "id": "a7488498-2914-448d-a69e-43b166389eeb",
   "metadata": {},
   "source": [
    "Discuss in this cell what you observe and answer the questions below:\n",
    "\n",
    "- the mean and stdev of the test scores differ based on how you split the data. Explain in a few sentences why!\n",
    "\n",
    "your answer here"
   ]
  },
  {
   "cell_type": "markdown",
   "id": "31a51215-6434-4aa6-906a-57436b3000c9",
   "metadata": {},
   "source": [
    "- Forecasting models like this can be used for trading. I.e., if your model predicts that the opening price of the apple stock tomorrow will be higher than the closing price today, you'd put in a sell order at the end of the day. If your prediction is correct, you will make a profit in USD once your order executes at tomorrow's open. Similarly, if your model predicts that the opening price of apple stock tomorrow will be lower than the closing price today, you'd put in a buy order. If your prediction is correct, you'll buy at a low price once your order executes at tomorrow's open. This is how you'd act based on the model's prediction - buy low, sell high. Would you be willing to use your own money to deploy the models developed in split 1 and/or split 2? Why or why not?\n",
    "\n",
    "your answer here"
   ]
  },
  {
   "cell_type": "markdown",
   "id": "1ded0881",
   "metadata": {},
   "source": [
    "## Problem 3 - group structure\n",
    "\n",
    "We will work with the [hand postures dataset](https://archive.ics.uci.edu/ml/datasets/Motion+Capture+Hand+Postures) in problem 3. Please carefully read the dataset description and perform as much EDA as you can on this dataset. The EDA is not graded but it will help you to correctly answer 3a and 3b.\n",
    "\n",
    "This dataset has group structure: 14 users performing 5 different hand postures while wearing sensors attached to a left-handed glove. Two different ML questions can be asked using this dataset. We will explore how splitting differs for both questions in 2a and 2b.\n",
    "\n",
    "Later on, we'll teach you how to deal with missing data. For now, simply drop all columns with any missing values (**don't do this in real life**, but for now it's fine). "
   ]
  },
  {
   "cell_type": "code",
   "execution_count": null,
   "id": "6443c3ab-843d-429f-8957-a1f8476601ca",
   "metadata": {},
   "outputs": [],
   "source": [
    "# add your code below\n"
   ]
  },
  {
   "cell_type": "markdown",
   "id": "4d8d54c4-f02c-4c4a-9756-19d25c899209",
   "metadata": {},
   "source": [
    "## Problem 3a - basic splitting (5 points)\n",
    "\n",
    "Create shuffled train/validation/test sets (60/20/20 ratio) and use `linear_ML_pipeline` to predict the class. \n",
    "Print out the best hyperparameter values, and the test score.\n",
    "Repeat this process with 5 random states and report the mean and stdev of the test score.\n",
    "\n",
    "You may receive some warnings about models failing to converge. This usually happens when C is too high (aka not enough regularization). Play around with those parameters in `linear_ML_pipeline` until you no longer see that warning."
   ]
  },
  {
   "cell_type": "code",
   "execution_count": null,
   "id": "1963af1c-4cdd-49d4-8347-faff8cb7d7fd",
   "metadata": {},
   "outputs": [],
   "source": [
    "# add your code here\n"
   ]
  },
  {
   "cell_type": "markdown",
   "id": "a0fe287f",
   "metadata": {},
   "source": [
    "### Problem 3b (10 points)\n",
    "\n",
    "How would you split the dataset if we wanted to know how accurately we can predict the hand postures of a new, previously unseen user? What's the target variable? Write down your reasoning (the usual 1-2 paragraphs are fine). Split the dataset into training, validation, and test sets, and run `linear_ML_pipeline` on it."
   ]
  },
  {
   "cell_type": "markdown",
   "id": "c2517fa4",
   "metadata": {},
   "source": [
    "Add your explanation here:\n"
   ]
  },
  {
   "cell_type": "code",
   "execution_count": null,
   "id": "8d482903",
   "metadata": {},
   "outputs": [],
   "source": [
    "# add your code here\n"
   ]
  },
  {
   "cell_type": "markdown",
   "id": "e08339c1",
   "metadata": {},
   "source": [
    "### Problem 3c (10 points)\n",
    "\n",
    "How would you split the data if we wanted to identify a user based on their hand postures? What's the target variable? Follow the same steps as in 3b (explain your reasoning, split, and run `linear_ML_pipeline`)."
   ]
  },
  {
   "cell_type": "markdown",
   "id": "a07e56a2",
   "metadata": {},
   "source": [
    "Add your explanation here:\n"
   ]
  },
  {
   "cell_type": "code",
   "execution_count": null,
   "id": "cce64a40",
   "metadata": {},
   "outputs": [],
   "source": [
    "# add you code here\n"
   ]
  }
 ],
 "metadata": {
  "kernelspec": {
   "display_name": "Python 3 (ipykernel)",
   "language": "python",
   "name": "python3"
  },
  "language_info": {
   "codemirror_mode": {
    "name": "ipython",
    "version": 3
   },
   "file_extension": ".py",
   "mimetype": "text/x-python",
   "name": "python",
   "nbconvert_exporter": "python",
   "pygments_lexer": "ipython3",
   "version": "3.12.10"
  }
 },
 "nbformat": 4,
 "nbformat_minor": 5
}
